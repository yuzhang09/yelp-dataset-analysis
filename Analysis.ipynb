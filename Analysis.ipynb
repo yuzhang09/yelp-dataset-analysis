{
 "cells": [
  {
   "cell_type": "markdown",
   "id": "28c2af6b",
   "metadata": {},
   "source": [
    "# Analysis of Yelp Business Intelligence Data\n",
    "We will analyze a subset of Yelp's business, reviews and user data. This dataset comes to us from [Kaggle](https://www.kaggle.com/yelp-dataset/yelp-dataset) although we have taken steps to pull this data into a publis s3 bucket: `s3://sta9760-yelpdataset/yelp-light/*business.json`"
   ]
  },
  {
   "cell_type": "markdown",
   "id": "8c03709f",
   "metadata": {},
   "source": [
    "# Installation and Initial Setup\n",
    "Begin by installing the necessary libraries that you may need to conduct your analysis. At the very least, you must install `pandas` and `matplotlib`"
   ]
  },
  {
   "cell_type": "code",
   "execution_count": 1,
   "id": "e3bc6dae",
   "metadata": {},
   "outputs": [
    {
     "data": {
      "application/vnd.jupyter.widget-view+json": {
       "model_id": "0ba1be876f9a48cf863b5ede21003d40",
       "version_major": 2,
       "version_minor": 0
      },
      "text/plain": [
       "VBox()"
      ]
     },
     "metadata": {},
     "output_type": "display_data"
    },
    {
     "name": "stdout",
     "output_type": "stream",
     "text": [
      "Starting Spark application\n"
     ]
    },
    {
     "data": {
      "text/html": [
       "<table>\n",
       "<tr><th>ID</th><th>YARN Application ID</th><th>Kind</th><th>State</th><th>Spark UI</th><th>Driver log</th><th>Current session?</th></tr><tr><td>0</td><td>application_1638222073388_0001</td><td>pyspark</td><td>idle</td><td><a target=\"_blank\" href=\"http://ip-172-31-32-168.us-east-2.compute.internal:20888/proxy/application_1638222073388_0001/\">Link</a></td><td><a target=\"_blank\" href=\"http://ip-172-31-46-244.us-east-2.compute.internal:8042/node/containerlogs/container_1638222073388_0001_01_000001/livy\">Link</a></td><td>✔</td></tr></table>"
      ],
      "text/plain": [
       "<IPython.core.display.HTML object>"
      ]
     },
     "metadata": {},
     "output_type": "display_data"
    },
    {
     "data": {
      "application/vnd.jupyter.widget-view+json": {
       "model_id": "",
       "version_major": 2,
       "version_minor": 0
      },
      "text/plain": [
       "FloatProgress(value=0.0, bar_style='info', description='Progress:', layout=Layout(height='25px', width='50%'),…"
      ]
     },
     "metadata": {},
     "output_type": "display_data"
    },
    {
     "name": "stdout",
     "output_type": "stream",
     "text": [
      "SparkSession available as 'spark'.\n"
     ]
    },
    {
     "data": {
      "application/vnd.jupyter.widget-view+json": {
       "model_id": "",
       "version_major": 2,
       "version_minor": 0
      },
      "text/plain": [
       "FloatProgress(value=0.0, bar_style='info', description='Progress:', layout=Layout(height='25px', width='50%'),…"
      ]
     },
     "metadata": {},
     "output_type": "display_data"
    },
    {
     "name": "stdout",
     "output_type": "stream",
     "text": [
      "Collecting pandas==1.0.3\n",
      "  Downloading https://files.pythonhosted.org/packages/4a/6a/94b219b8ea0f2d580169e85ed1edc0163743f55aaeca8a44c2e8fc1e344e/pandas-1.0.3-cp37-cp37m-manylinux1_x86_64.whl (10.0MB)\n",
      "Requirement already satisfied: pytz>=2017.2 in /usr/local/lib/python3.7/site-packages (from pandas==1.0.3)\n",
      "Requirement already satisfied: numpy>=1.13.3 in /usr/local/lib64/python3.7/site-packages (from pandas==1.0.3)\n",
      "Collecting python-dateutil>=2.6.1 (from pandas==1.0.3)\n",
      "  Downloading https://files.pythonhosted.org/packages/36/7a/87837f39d0296e723bb9b62bbb257d0355c7f6128853c78955f57342a56d/python_dateutil-2.8.2-py2.py3-none-any.whl (247kB)\n",
      "Requirement already satisfied: six>=1.5 in /usr/local/lib/python3.7/site-packages (from python-dateutil>=2.6.1->pandas==1.0.3)\n",
      "Installing collected packages: python-dateutil, pandas\n",
      "Successfully installed pandas-1.0.3 python-dateutil-2.8.2"
     ]
    }
   ],
   "source": [
    "sc.install_pypi_package(\"pandas==1.0.3\")"
   ]
  },
  {
   "cell_type": "code",
   "execution_count": 2,
   "id": "91552a4a",
   "metadata": {},
   "outputs": [
    {
     "data": {
      "application/vnd.jupyter.widget-view+json": {
       "model_id": "f86ade0bf63c46778d0bfd891d549f1c",
       "version_major": 2,
       "version_minor": 0
      },
      "text/plain": [
       "VBox()"
      ]
     },
     "metadata": {},
     "output_type": "display_data"
    },
    {
     "data": {
      "application/vnd.jupyter.widget-view+json": {
       "model_id": "",
       "version_major": 2,
       "version_minor": 0
      },
      "text/plain": [
       "FloatProgress(value=0.0, bar_style='info', description='Progress:', layout=Layout(height='25px', width='50%'),…"
      ]
     },
     "metadata": {},
     "output_type": "display_data"
    },
    {
     "name": "stdout",
     "output_type": "stream",
     "text": [
      "Collecting matplotlib==3.2.1\n",
      "  Downloading https://files.pythonhosted.org/packages/b2/c2/71fcf957710f3ba1f09088b35776a799ba7dd95f7c2b195ec800933b276b/matplotlib-3.2.1-cp37-cp37m-manylinux1_x86_64.whl (12.4MB)\n",
      "Requirement already satisfied: python-dateutil>=2.1 in /mnt/tmp/1638222870735-0/lib/python3.7/site-packages (from matplotlib==3.2.1)\n",
      "Collecting pyparsing!=2.0.4,!=2.1.2,!=2.1.6,>=2.0.1 (from matplotlib==3.2.1)\n",
      "  Downloading https://files.pythonhosted.org/packages/a0/34/895006117f6fce0b4de045c87e154ee4a20c68ec0a4c9a36d900888fb6bc/pyparsing-3.0.6-py3-none-any.whl (97kB)\n",
      "Collecting cycler>=0.10 (from matplotlib==3.2.1)\n",
      "  Downloading https://files.pythonhosted.org/packages/5c/f9/695d6bedebd747e5eb0fe8fad57b72fdf25411273a39791cde838d5a8f51/cycler-0.11.0-py3-none-any.whl\n",
      "Requirement already satisfied: numpy>=1.11 in /usr/local/lib64/python3.7/site-packages (from matplotlib==3.2.1)\n",
      "Collecting kiwisolver>=1.0.1 (from matplotlib==3.2.1)\n",
      "  Downloading https://files.pythonhosted.org/packages/09/6b/6e567cb2e86d4e5939a9233f8734e26021b6a9c1bc4b1edccba236a84cc2/kiwisolver-1.3.2-cp37-cp37m-manylinux_2_5_x86_64.manylinux1_x86_64.whl (1.1MB)\n",
      "Requirement already satisfied: six>=1.5 in /usr/local/lib/python3.7/site-packages (from python-dateutil>=2.1->matplotlib==3.2.1)\n",
      "Installing collected packages: pyparsing, cycler, kiwisolver, matplotlib\n",
      "Successfully installed cycler-0.11.0 kiwisolver-1.3.2 matplotlib-3.2.1 pyparsing-3.0.6"
     ]
    }
   ],
   "source": [
    "sc.install_pypi_package(\"matplotlib==3.2.1\")"
   ]
  },
  {
   "cell_type": "code",
   "execution_count": 3,
   "id": "b062f43f",
   "metadata": {},
   "outputs": [
    {
     "data": {
      "application/vnd.jupyter.widget-view+json": {
       "model_id": "90b36161d59c4bf895729bd90dcdfb15",
       "version_major": 2,
       "version_minor": 0
      },
      "text/plain": [
       "VBox()"
      ]
     },
     "metadata": {},
     "output_type": "display_data"
    },
    {
     "data": {
      "application/vnd.jupyter.widget-view+json": {
       "model_id": "",
       "version_major": 2,
       "version_minor": 0
      },
      "text/plain": [
       "FloatProgress(value=0.0, bar_style='info', description='Progress:', layout=Layout(height='25px', width='50%'),…"
      ]
     },
     "metadata": {},
     "output_type": "display_data"
    },
    {
     "name": "stdout",
     "output_type": "stream",
     "text": [
      "Package                    Version  \n",
      "-------------------------- ---------\n",
      "beautifulsoup4             4.9.1    \n",
      "boto                       2.49.0   \n",
      "click                      7.1.2    \n",
      "cycler                     0.11.0   \n",
      "jmespath                   0.10.0   \n",
      "joblib                     0.16.0   \n",
      "kiwisolver                 1.3.2    \n",
      "lxml                       4.5.2    \n",
      "matplotlib                 3.2.1    \n",
      "mysqlclient                1.4.2    \n",
      "nltk                       3.5      \n",
      "nose                       1.3.4    \n",
      "numpy                      1.16.5   \n",
      "pandas                     1.0.3    \n",
      "pip                        9.0.1    \n",
      "py-dateutil                2.2      \n",
      "pyparsing                  3.0.6    \n",
      "python-dateutil            2.8.2    \n",
      "python37-sagemaker-pyspark 1.4.0    \n",
      "pytz                       2020.1   \n",
      "PyYAML                     5.3.1    \n",
      "regex                      2020.7.14\n",
      "setuptools                 28.8.0   \n",
      "six                        1.13.0   \n",
      "soupsieve                  1.9.5    \n",
      "tqdm                       4.48.2   \n",
      "wheel                      0.29.0   \n",
      "windmill                   1.6"
     ]
    }
   ],
   "source": [
    "sc.list_packages()"
   ]
  },
  {
   "cell_type": "markdown",
   "id": "b9ee3f39",
   "metadata": {},
   "source": [
    "## Importing\n",
    "Now, import the installed packages from the previous block below."
   ]
  },
  {
   "cell_type": "code",
   "execution_count": 52,
   "id": "ed62145e",
   "metadata": {},
   "outputs": [
    {
     "data": {
      "application/vnd.jupyter.widget-view+json": {
       "model_id": "59ca50245d3e41378c142ab9d16fd664",
       "version_major": 2,
       "version_minor": 0
      },
      "text/plain": [
       "VBox()"
      ]
     },
     "metadata": {},
     "output_type": "display_data"
    },
    {
     "data": {
      "application/vnd.jupyter.widget-view+json": {
       "model_id": "",
       "version_major": 2,
       "version_minor": 0
      },
      "text/plain": [
       "FloatProgress(value=0.0, bar_style='info', description='Progress:', layout=Layout(height='25px', width='50%'),…"
      ]
     },
     "metadata": {},
     "output_type": "display_data"
    }
   ],
   "source": [
    "import pandas as pd\n",
    "import numpy as np\n",
    "import matplotlib.pyplot as plt"
   ]
  },
  {
   "cell_type": "markdown",
   "id": "2fc61665",
   "metadata": {},
   "source": [
    "## Loading Data\n",
    "We are finally ready to load data. Using `spark` load the data from S3 into a `dataframe` object that we can manipulate further down in our analysis."
   ]
  },
  {
   "cell_type": "code",
   "execution_count": 53,
   "id": "f9f11630",
   "metadata": {},
   "outputs": [
    {
     "data": {
      "application/vnd.jupyter.widget-view+json": {
       "model_id": "2cddc38f0fc7453bb1ca51b0f4042399",
       "version_major": 2,
       "version_minor": 0
      },
      "text/plain": [
       "VBox()"
      ]
     },
     "metadata": {},
     "output_type": "display_data"
    },
    {
     "data": {
      "application/vnd.jupyter.widget-view+json": {
       "model_id": "",
       "version_major": 2,
       "version_minor": 0
      },
      "text/plain": [
       "FloatProgress(value=0.0, bar_style='info', description='Progress:', layout=Layout(height='25px', width='50%'),…"
      ]
     },
     "metadata": {},
     "output_type": "display_data"
    }
   ],
   "source": [
    "df_bus = spark.read.json(\"s3://sta9760f2021-datasets/yelp_academic_dataset_business.json\")"
   ]
  },
  {
   "cell_type": "markdown",
   "id": "17637b95",
   "metadata": {},
   "source": [
    "## Overview of Data\n",
    "Display the number of rows and columns in our dataset."
   ]
  },
  {
   "cell_type": "code",
   "execution_count": 54,
   "id": "ad8312ea",
   "metadata": {},
   "outputs": [
    {
     "data": {
      "application/vnd.jupyter.widget-view+json": {
       "model_id": "482894701488472ebaeef373bce5d105",
       "version_major": 2,
       "version_minor": 0
      },
      "text/plain": [
       "VBox()"
      ]
     },
     "metadata": {},
     "output_type": "display_data"
    },
    {
     "data": {
      "application/vnd.jupyter.widget-view+json": {
       "model_id": "",
       "version_major": 2,
       "version_minor": 0
      },
      "text/plain": [
       "FloatProgress(value=0.0, bar_style='info', description='Progress:', layout=Layout(height='25px', width='50%'),…"
      ]
     },
     "metadata": {},
     "output_type": "display_data"
    },
    {
     "name": "stdout",
     "output_type": "stream",
     "text": [
      "Columns: 14 | Rows: 160585"
     ]
    }
   ],
   "source": [
    "print(f'Columns: {len(df_bus.dtypes)} | Rows: {(df_bus.count())}')"
   ]
  },
  {
   "cell_type": "markdown",
   "id": "7ad5fa92",
   "metadata": {},
   "source": [
    "Display the DataFrame schema below."
   ]
  },
  {
   "cell_type": "code",
   "execution_count": 55,
   "id": "e900cf8f",
   "metadata": {},
   "outputs": [
    {
     "data": {
      "application/vnd.jupyter.widget-view+json": {
       "model_id": "49709eac1ce04c9696913d071fce954f",
       "version_major": 2,
       "version_minor": 0
      },
      "text/plain": [
       "VBox()"
      ]
     },
     "metadata": {},
     "output_type": "display_data"
    },
    {
     "data": {
      "application/vnd.jupyter.widget-view+json": {
       "model_id": "",
       "version_major": 2,
       "version_minor": 0
      },
      "text/plain": [
       "FloatProgress(value=0.0, bar_style='info', description='Progress:', layout=Layout(height='25px', width='50%'),…"
      ]
     },
     "metadata": {},
     "output_type": "display_data"
    },
    {
     "name": "stdout",
     "output_type": "stream",
     "text": [
      "root\n",
      " |-- address: string (nullable = true)\n",
      " |-- attributes: struct (nullable = true)\n",
      " |    |-- AcceptsInsurance: string (nullable = true)\n",
      " |    |-- AgesAllowed: string (nullable = true)\n",
      " |    |-- Alcohol: string (nullable = true)\n",
      " |    |-- Ambience: string (nullable = true)\n",
      " |    |-- BYOB: string (nullable = true)\n",
      " |    |-- BYOBCorkage: string (nullable = true)\n",
      " |    |-- BestNights: string (nullable = true)\n",
      " |    |-- BikeParking: string (nullable = true)\n",
      " |    |-- BusinessAcceptsBitcoin: string (nullable = true)\n",
      " |    |-- BusinessAcceptsCreditCards: string (nullable = true)\n",
      " |    |-- BusinessParking: string (nullable = true)\n",
      " |    |-- ByAppointmentOnly: string (nullable = true)\n",
      " |    |-- Caters: string (nullable = true)\n",
      " |    |-- CoatCheck: string (nullable = true)\n",
      " |    |-- Corkage: string (nullable = true)\n",
      " |    |-- DietaryRestrictions: string (nullable = true)\n",
      " |    |-- DogsAllowed: string (nullable = true)\n",
      " |    |-- DriveThru: string (nullable = true)\n",
      " |    |-- GoodForDancing: string (nullable = true)\n",
      " |    |-- GoodForKids: string (nullable = true)\n",
      " |    |-- GoodForMeal: string (nullable = true)\n",
      " |    |-- HairSpecializesIn: string (nullable = true)\n",
      " |    |-- HappyHour: string (nullable = true)\n",
      " |    |-- HasTV: string (nullable = true)\n",
      " |    |-- Music: string (nullable = true)\n",
      " |    |-- NoiseLevel: string (nullable = true)\n",
      " |    |-- Open24Hours: string (nullable = true)\n",
      " |    |-- OutdoorSeating: string (nullable = true)\n",
      " |    |-- RestaurantsAttire: string (nullable = true)\n",
      " |    |-- RestaurantsCounterService: string (nullable = true)\n",
      " |    |-- RestaurantsDelivery: string (nullable = true)\n",
      " |    |-- RestaurantsGoodForGroups: string (nullable = true)\n",
      " |    |-- RestaurantsPriceRange2: string (nullable = true)\n",
      " |    |-- RestaurantsReservations: string (nullable = true)\n",
      " |    |-- RestaurantsTableService: string (nullable = true)\n",
      " |    |-- RestaurantsTakeOut: string (nullable = true)\n",
      " |    |-- Smoking: string (nullable = true)\n",
      " |    |-- WheelchairAccessible: string (nullable = true)\n",
      " |    |-- WiFi: string (nullable = true)\n",
      " |-- business_id: string (nullable = true)\n",
      " |-- categories: string (nullable = true)\n",
      " |-- city: string (nullable = true)\n",
      " |-- hours: struct (nullable = true)\n",
      " |    |-- Friday: string (nullable = true)\n",
      " |    |-- Monday: string (nullable = true)\n",
      " |    |-- Saturday: string (nullable = true)\n",
      " |    |-- Sunday: string (nullable = true)\n",
      " |    |-- Thursday: string (nullable = true)\n",
      " |    |-- Tuesday: string (nullable = true)\n",
      " |    |-- Wednesday: string (nullable = true)\n",
      " |-- is_open: long (nullable = true)\n",
      " |-- latitude: double (nullable = true)\n",
      " |-- longitude: double (nullable = true)\n",
      " |-- name: string (nullable = true)\n",
      " |-- postal_code: string (nullable = true)\n",
      " |-- review_count: long (nullable = true)\n",
      " |-- stars: double (nullable = true)\n",
      " |-- state: string (nullable = true)"
     ]
    }
   ],
   "source": [
    "df_bus.printSchema()"
   ]
  },
  {
   "cell_type": "markdown",
   "id": "acc3a13b",
   "metadata": {},
   "source": [
    "Display the first 5 rows with the following columns:\n",
    "\n",
    "* `business_id`\n",
    "* `name`\n",
    "* `city`\n",
    "* `state`\n",
    "* `stars`\n",
    "* `categories`"
   ]
  },
  {
   "cell_type": "code",
   "execution_count": 56,
   "id": "85c40c00",
   "metadata": {},
   "outputs": [
    {
     "data": {
      "application/vnd.jupyter.widget-view+json": {
       "model_id": "6725d0c9bfff4463beec64f95edfdfc9",
       "version_major": 2,
       "version_minor": 0
      },
      "text/plain": [
       "VBox()"
      ]
     },
     "metadata": {},
     "output_type": "display_data"
    },
    {
     "data": {
      "application/vnd.jupyter.widget-view+json": {
       "model_id": "",
       "version_major": 2,
       "version_minor": 0
      },
      "text/plain": [
       "FloatProgress(value=0.0, bar_style='info', description='Progress:', layout=Layout(height='25px', width='50%'),…"
      ]
     },
     "metadata": {},
     "output_type": "display_data"
    },
    {
     "name": "stdout",
     "output_type": "stream",
     "text": [
      "+--------------------+--------------------+-----------+-----+-----+--------------------+\n",
      "|         business_id|                name|       city|state|stars|          categories|\n",
      "+--------------------+--------------------+-----------+-----+-----+--------------------+\n",
      "|6iYb2HFDywm3zjuRg...| Oskar Blues Taproom|    Boulder|   CO|  4.0|Gastropubs, Food,...|\n",
      "|tCbdrRPZA0oiIYSmH...|Flying Elephants ...|   Portland|   OR|  4.0|Salad, Soup, Sand...|\n",
      "|bvN78flM8NLprQ1a1...|      The Reclaimory|   Portland|   OR|  4.5|Antiques, Fashion...|\n",
      "|oaepsyvc0J17qwi8c...|         Great Clips|Orange City|   FL|  3.0|Beauty & Spas, Ha...|\n",
      "|PE9uqAjdw0E4-8mjG...|   Crossfit Terminus|    Atlanta|   GA|  4.0|Gyms, Active Life...|\n",
      "+--------------------+--------------------+-----------+-----+-----+--------------------+\n",
      "only showing top 5 rows"
     ]
    }
   ],
   "source": [
    "df_bus.select(\"business_id\", \"name\", \"city\", \"state\", \"stars\", \"categories\").show(5)"
   ]
  },
  {
   "cell_type": "markdown",
   "id": "d1eb4dd0",
   "metadata": {},
   "source": [
    "## Analyzing Categories\n",
    "Let's now answer this question: **how many unique categories are represented in this dataset?**\n",
    "\n",
    "Essentially, we have the categories per business as a list - this is useful to quickly see what each business might be represented as but it is difficult to easily answer questions such as:\n",
    "\n",
    "* How many businesses are categorized as `Active Life`, for instance\n",
    "* What are the top 20 most popular categories available?"
   ]
  },
  {
   "cell_type": "markdown",
   "id": "d97959f4",
   "metadata": {},
   "source": [
    "## Association Table\n",
    "\n",
    "We need to \"break out\" these categories from the business ids? One common approach to take is to build an association table mapping a single business id multiple times to each distinct category.\n",
    "\n",
    "For instance, given the following:\n",
    "\n",
    "\n",
    "| business_id | categories |\n",
    "|-------------|------------|\n",
    "| abcd123     | a,b,c      |\n",
    "\n",
    "We would like to derive something like:\n",
    "\n",
    "| business_id | category |\n",
    "|-------------|------------|\n",
    "| abcd123     | a          |\n",
    "| abcd123     | b          |\n",
    "| abcd123     | c          |\n",
    "\n",
    "\n",
    "What this does is allow us to then perform a myriad of rollups and other analysis on this association table which can aid us in answering the questions asked above.\n",
    "\n",
    "Implement the code necessary to derive the table described from your original yelp dataframe."
   ]
  },
  {
   "cell_type": "code",
   "execution_count": 57,
   "id": "93d4f354",
   "metadata": {},
   "outputs": [
    {
     "data": {
      "application/vnd.jupyter.widget-view+json": {
       "model_id": "5cae282472ed476ea97f3bee9d95b404",
       "version_major": 2,
       "version_minor": 0
      },
      "text/plain": [
       "VBox()"
      ]
     },
     "metadata": {},
     "output_type": "display_data"
    },
    {
     "data": {
      "application/vnd.jupyter.widget-view+json": {
       "model_id": "",
       "version_major": 2,
       "version_minor": 0
      },
      "text/plain": [
       "FloatProgress(value=0.0, bar_style='info', description='Progress:', layout=Layout(height='25px', width='50%'),…"
      ]
     },
     "metadata": {},
     "output_type": "display_data"
    }
   ],
   "source": [
    "from pyspark.sql.functions import explode, split\n",
    "\n",
    "df_bus_cat = df_bus.withColumn('categories',explode(split('categories',\", \")))"
   ]
  },
  {
   "cell_type": "markdown",
   "id": "1635c65a",
   "metadata": {},
   "source": [
    "Display the first 5 rows of your association table below."
   ]
  },
  {
   "cell_type": "code",
   "execution_count": 58,
   "id": "21851976",
   "metadata": {},
   "outputs": [
    {
     "data": {
      "application/vnd.jupyter.widget-view+json": {
       "model_id": "54c43746c9b148d78ca1a8a48b7114b5",
       "version_major": 2,
       "version_minor": 0
      },
      "text/plain": [
       "VBox()"
      ]
     },
     "metadata": {},
     "output_type": "display_data"
    },
    {
     "data": {
      "application/vnd.jupyter.widget-view+json": {
       "model_id": "",
       "version_major": 2,
       "version_minor": 0
      },
      "text/plain": [
       "FloatProgress(value=0.0, bar_style='info', description='Progress:', layout=Layout(height='25px', width='50%'),…"
      ]
     },
     "metadata": {},
     "output_type": "display_data"
    },
    {
     "name": "stdout",
     "output_type": "stream",
     "text": [
      "+--------------------+------------+\n",
      "|         business_id|  categories|\n",
      "+--------------------+------------+\n",
      "|6iYb2HFDywm3zjuRg...|  Gastropubs|\n",
      "|6iYb2HFDywm3zjuRg...|        Food|\n",
      "|6iYb2HFDywm3zjuRg...|Beer Gardens|\n",
      "|6iYb2HFDywm3zjuRg...| Restaurants|\n",
      "|6iYb2HFDywm3zjuRg...|        Bars|\n",
      "+--------------------+------------+\n",
      "only showing top 5 rows"
     ]
    }
   ],
   "source": [
    "df_bus_cat.select(\"business_id\", \"categories\").show(5)"
   ]
  },
  {
   "cell_type": "markdown",
   "id": "57b7c4ac",
   "metadata": {},
   "source": [
    "## Total Unique Categories\n",
    "\n",
    "Finally, we are ready to answer the question: **what is the total number of unique categories available?**\n",
    "\n",
    "Below, implement the code necessary to calculate this figure."
   ]
  },
  {
   "cell_type": "code",
   "execution_count": 59,
   "id": "c65d0066",
   "metadata": {},
   "outputs": [
    {
     "data": {
      "application/vnd.jupyter.widget-view+json": {
       "model_id": "dee623e057f14982b052433e06ecc8e8",
       "version_major": 2,
       "version_minor": 0
      },
      "text/plain": [
       "VBox()"
      ]
     },
     "metadata": {},
     "output_type": "display_data"
    },
    {
     "data": {
      "application/vnd.jupyter.widget-view+json": {
       "model_id": "",
       "version_major": 2,
       "version_minor": 0
      },
      "text/plain": [
       "FloatProgress(value=0.0, bar_style='info', description='Progress:', layout=Layout(height='25px', width='50%'),…"
      ]
     },
     "metadata": {},
     "output_type": "display_data"
    },
    {
     "name": "stdout",
     "output_type": "stream",
     "text": [
      "1330"
     ]
    }
   ],
   "source": [
    "df_bus_cat.select(\"categories\").distinct().count()"
   ]
  },
  {
   "cell_type": "markdown",
   "id": "0e636d69",
   "metadata": {},
   "source": [
    "## Top Categories By Business\n",
    "\n",
    "Now let's find the top categories in this dataset by rolling up categories.\n",
    "\n",
    "### Counts of Businesses / Category¶\n",
    "So now, let's unroll our distinct count a bit and display the per count value of businesses per category.\n",
    "\n",
    "The expected output should be:\n",
    "\n",
    "| category | count |\n",
    "|-------------|------------|\n",
    "| a     | 15         |\n",
    "| b     | 2          |\n",
    "| c     | 45          |\n",
    "\n",
    "Or something to that effect."
   ]
  },
  {
   "cell_type": "code",
   "execution_count": 60,
   "id": "99c8eb02",
   "metadata": {},
   "outputs": [
    {
     "data": {
      "application/vnd.jupyter.widget-view+json": {
       "model_id": "fcae825307804d509bc1a207fd8478f6",
       "version_major": 2,
       "version_minor": 0
      },
      "text/plain": [
       "VBox()"
      ]
     },
     "metadata": {},
     "output_type": "display_data"
    },
    {
     "data": {
      "application/vnd.jupyter.widget-view+json": {
       "model_id": "",
       "version_major": 2,
       "version_minor": 0
      },
      "text/plain": [
       "FloatProgress(value=0.0, bar_style='info', description='Progress:', layout=Layout(height='25px', width='50%'),…"
      ]
     },
     "metadata": {},
     "output_type": "display_data"
    },
    {
     "name": "stdout",
     "output_type": "stream",
     "text": [
      "+--------------------+-----+\n",
      "|          categories|count|\n",
      "+--------------------+-----+\n",
      "|      Dermatologists|  351|\n",
      "|      Paddleboarding|   67|\n",
      "|        Aerial Tours|    8|\n",
      "|         Hobby Shops|  610|\n",
      "|          Bubble Tea|  779|\n",
      "|             Embassy|    9|\n",
      "|             Tanning|  701|\n",
      "|            Handyman|  507|\n",
      "|      Aerial Fitness|   13|\n",
      "|             Falafel|  141|\n",
      "|        Summer Camps|  308|\n",
      "|       Outlet Stores|  184|\n",
      "|     Clothing Rental|   37|\n",
      "|      Sporting Goods| 1864|\n",
      "|     Cooking Schools|  114|\n",
      "|  College Counseling|   20|\n",
      "|  Lactation Services|   47|\n",
      "|Ski & Snowboard S...|   55|\n",
      "|             Museums|  336|\n",
      "|              Doulas|   52|\n",
      "+--------------------+-----+\n",
      "only showing top 20 rows"
     ]
    }
   ],
   "source": [
    "df_bus_cat.groupby(\"categories\").count().show(20)"
   ]
  },
  {
   "cell_type": "markdown",
   "id": "80c95bb3",
   "metadata": {},
   "source": [
    "### Bar Chart of Top Categories\n",
    "\n",
    "With this data available, let us now build a barchart of the top 20 categories. \n",
    "\n",
    "**HINT**: don't forget about the matplotlib magic!\n",
    "\n",
    "```\n",
    "%matplot plt\n",
    "```"
   ]
  },
  {
   "cell_type": "code",
   "execution_count": 61,
   "id": "57782f3c",
   "metadata": {},
   "outputs": [
    {
     "data": {
      "application/vnd.jupyter.widget-view+json": {
       "model_id": "c9c13ad6a46e42488fa5a8c6e6775eda",
       "version_major": 2,
       "version_minor": 0
      },
      "text/plain": [
       "VBox()"
      ]
     },
     "metadata": {},
     "output_type": "display_data"
    },
    {
     "data": {
      "application/vnd.jupyter.widget-view+json": {
       "model_id": "",
       "version_major": 2,
       "version_minor": 0
      },
      "text/plain": [
       "FloatProgress(value=0.0, bar_style='info', description='Progress:', layout=Layout(height='25px', width='50%'),…"
      ]
     },
     "metadata": {},
     "output_type": "display_data"
    },
    {
     "name": "stdout",
     "output_type": "stream",
     "text": [
      "+--------------------+-----+\n",
      "|          categories|count|\n",
      "+--------------------+-----+\n",
      "|         Restaurants|50763|\n",
      "|                Food|29469|\n",
      "|            Shopping|26205|\n",
      "|       Beauty & Spas|16574|\n",
      "|       Home Services|16465|\n",
      "|    Health & Medical|15102|\n",
      "|      Local Services|12192|\n",
      "|           Nightlife|11990|\n",
      "|                Bars|10741|\n",
      "|          Automotive|10119|\n",
      "|Event Planning & ...| 9644|\n",
      "|         Active Life| 9231|\n",
      "|        Coffee & Tea| 7725|\n",
      "|          Sandwiches| 7272|\n",
      "|             Fashion| 6599|\n",
      "|American (Traditi...| 6541|\n",
      "|         Hair Salons| 5900|\n",
      "|               Pizza| 5756|\n",
      "|     Hotels & Travel| 5703|\n",
      "|  Breakfast & Brunch| 5505|\n",
      "+--------------------+-----+\n",
      "only showing top 20 rows"
     ]
    }
   ],
   "source": [
    "df_bus_cat_bar = df_bus_cat.groupby(\"categories\").count().orderBy('count',ascending=False)\n",
    "df_bus_cat_bar.show(20)"
   ]
  },
  {
   "cell_type": "code",
   "execution_count": 62,
   "id": "cbae7063",
   "metadata": {},
   "outputs": [
    {
     "data": {
      "application/vnd.jupyter.widget-view+json": {
       "model_id": "a87eb127395a46ffaff96cfdd0c3bbe4",
       "version_major": 2,
       "version_minor": 0
      },
      "text/plain": [
       "VBox()"
      ]
     },
     "metadata": {},
     "output_type": "display_data"
    },
    {
     "data": {
      "application/vnd.jupyter.widget-view+json": {
       "model_id": "",
       "version_major": 2,
       "version_minor": 0
      },
      "text/plain": [
       "FloatProgress(value=0.0, bar_style='info', description='Progress:', layout=Layout(height='25px', width='50%'),…"
      ]
     },
     "metadata": {},
     "output_type": "display_data"
    },
    {
     "name": "stdout",
     "output_type": "stream",
     "text": [
      "                   categories  count\n",
      "0                 Restaurants  50763\n",
      "1                        Food  29469\n",
      "2                    Shopping  26205\n",
      "3               Beauty & Spas  16574\n",
      "4               Home Services  16465\n",
      "5            Health & Medical  15102\n",
      "6              Local Services  12192\n",
      "7                   Nightlife  11990\n",
      "8                        Bars  10741\n",
      "9                  Automotive  10119\n",
      "10  Event Planning & Services   9644\n",
      "11                Active Life   9231\n",
      "12               Coffee & Tea   7725\n",
      "13                 Sandwiches   7272\n",
      "14                    Fashion   6599\n",
      "15     American (Traditional)   6541\n",
      "16                Hair Salons   5900\n",
      "17                      Pizza   5756\n",
      "18            Hotels & Travel   5703\n",
      "19         Breakfast & Brunch   5505"
     ]
    }
   ],
   "source": [
    "topd = df_bus_cat_bar.limit(20).toPandas()\n",
    "topd"
   ]
  },
  {
   "cell_type": "code",
   "execution_count": 63,
   "id": "a601b8af",
   "metadata": {},
   "outputs": [
    {
     "data": {
      "application/vnd.jupyter.widget-view+json": {
       "model_id": "af7e7d3506d8482da98e631f2cca4ec6",
       "version_major": 2,
       "version_minor": 0
      },
      "text/plain": [
       "VBox()"
      ]
     },
     "metadata": {},
     "output_type": "display_data"
    },
    {
     "data": {
      "application/vnd.jupyter.widget-view+json": {
       "model_id": "",
       "version_major": 2,
       "version_minor": 0
      },
      "text/plain": [
       "FloatProgress(value=0.0, bar_style='info', description='Progress:', layout=Layout(height='25px', width='50%'),…"
      ]
     },
     "metadata": {},
     "output_type": "display_data"
    },
    {
     "name": "stdout",
     "output_type": "stream",
     "text": [
      "Text(0, 0.5, 'categories')"
     ]
    }
   ],
   "source": [
    "plt.figure(figsize=(12,10))\n",
    "topd.sort_values(by=\"count\").plot(kind=\"barh\", x='categories', figsize=(12,10))\n",
    "plt.title(\"Top Categories by Business\")\n",
    "plt.xlabel(\"count\")\n",
    "plt.ylabel(\"categories\")"
   ]
  },
  {
   "cell_type": "code",
   "execution_count": 64,
   "id": "b6da1b3f",
   "metadata": {},
   "outputs": [
    {
     "data": {
      "application/vnd.jupyter.widget-view+json": {
       "model_id": "",
       "version_major": 2,
       "version_minor": 0
      },
      "text/plain": [
       "FloatProgress(value=0.0, bar_style='info', description='Progress:', layout=Layout(height='25px', width='50%'),…"
      ]
     },
     "metadata": {},
     "output_type": "display_data"
    },
    {
     "data": {
      "image/png": "[encoded data removed]",
      "text/plain": [
       "<IPython.core.display.Image object>"
      ]
     },
     "metadata": {},
     "output_type": "display_data"
    }
   ],
   "source": [
    "%matplot plt"
   ]
  },
  {
   "cell_type": "markdown",
   "id": "9e173e0d",
   "metadata": {},
   "source": [
    "# Do Yelp Reviews Skew Negative?\n",
    "\n",
    "Oftentimes, it is said that the only people who write a written review are those who are extremely _dissatisfied_ or extremely _satisfied_ with the service received. \n",
    "\n",
    "How true is this really? Let's try and answer this question."
   ]
  },
  {
   "cell_type": "markdown",
   "id": "5821d8bc",
   "metadata": {},
   "source": [
    "## Loading Review Data\n",
    "\n",
    "Begin by loading the user data set from S3 and printing schema to determine what data is available."
   ]
  },
  {
   "cell_type": "code",
   "execution_count": 65,
   "id": "96942c4a",
   "metadata": {},
   "outputs": [
    {
     "data": {
      "application/vnd.jupyter.widget-view+json": {
       "model_id": "1b0a3e4f43c14f4db2650025630a9876",
       "version_major": 2,
       "version_minor": 0
      },
      "text/plain": [
       "VBox()"
      ]
     },
     "metadata": {},
     "output_type": "display_data"
    },
    {
     "data": {
      "application/vnd.jupyter.widget-view+json": {
       "model_id": "",
       "version_major": 2,
       "version_minor": 0
      },
      "text/plain": [
       "FloatProgress(value=0.0, bar_style='info', description='Progress:', layout=Layout(height='25px', width='50%'),…"
      ]
     },
     "metadata": {},
     "output_type": "display_data"
    }
   ],
   "source": [
    "df_review = spark.read.json(\"s3://sta9760f2021-datasets/yelp_academic_dataset_review.json\")"
   ]
  },
  {
   "cell_type": "code",
   "execution_count": 66,
   "id": "17eefc19",
   "metadata": {},
   "outputs": [
    {
     "data": {
      "application/vnd.jupyter.widget-view+json": {
       "model_id": "d4d9184190ec49b0a17c53e171bfcb9c",
       "version_major": 2,
       "version_minor": 0
      },
      "text/plain": [
       "VBox()"
      ]
     },
     "metadata": {},
     "output_type": "display_data"
    },
    {
     "data": {
      "application/vnd.jupyter.widget-view+json": {
       "model_id": "",
       "version_major": 2,
       "version_minor": 0
      },
      "text/plain": [
       "FloatProgress(value=0.0, bar_style='info', description='Progress:', layout=Layout(height='25px', width='50%'),…"
      ]
     },
     "metadata": {},
     "output_type": "display_data"
    },
    {
     "name": "stdout",
     "output_type": "stream",
     "text": [
      "root\n",
      " |-- business_id: string (nullable = true)\n",
      " |-- cool: long (nullable = true)\n",
      " |-- date: string (nullable = true)\n",
      " |-- funny: long (nullable = true)\n",
      " |-- review_id: string (nullable = true)\n",
      " |-- stars: double (nullable = true)\n",
      " |-- text: string (nullable = true)\n",
      " |-- useful: long (nullable = true)\n",
      " |-- user_id: string (nullable = true)"
     ]
    }
   ],
   "source": [
    "df_review.printSchema()"
   ]
  },
  {
   "cell_type": "markdown",
   "id": "666a801f",
   "metadata": {},
   "source": [
    "Let's begin by listing the `business_id` and `stars` columns together for the user reviews data."
   ]
  },
  {
   "cell_type": "code",
   "execution_count": 67,
   "id": "b684fbdd",
   "metadata": {},
   "outputs": [
    {
     "data": {
      "application/vnd.jupyter.widget-view+json": {
       "model_id": "14798f7267bc409f9721dbd71eccb1e2",
       "version_major": 2,
       "version_minor": 0
      },
      "text/plain": [
       "VBox()"
      ]
     },
     "metadata": {},
     "output_type": "display_data"
    },
    {
     "data": {
      "application/vnd.jupyter.widget-view+json": {
       "model_id": "",
       "version_major": 2,
       "version_minor": 0
      },
      "text/plain": [
       "FloatProgress(value=0.0, bar_style='info', description='Progress:', layout=Layout(height='25px', width='50%'),…"
      ]
     },
     "metadata": {},
     "output_type": "display_data"
    },
    {
     "name": "stdout",
     "output_type": "stream",
     "text": [
      "+--------------------+-----+\n",
      "|         business_id|stars|\n",
      "+--------------------+-----+\n",
      "|buF9druCkbuXLX526...|  4.0|\n",
      "|RA4V8pr014UyUbDvI...|  4.0|\n",
      "|_sS2LBIGNT5NQb6PD...|  5.0|\n",
      "|0AzLzHfOJgL7ROwhd...|  2.0|\n",
      "|8zehGz9jnxPqXtOc7...|  4.0|\n",
      "+--------------------+-----+\n",
      "only showing top 5 rows"
     ]
    }
   ],
   "source": [
    "df_review.select(\"business_id\", \"stars\").show(5)"
   ]
  },
  {
   "cell_type": "markdown",
   "id": "20fda1ba",
   "metadata": {},
   "source": [
    "Now, let's aggregate along the `stars` column to get a resultant dataframe that displays _average stars_ per business as accumulated by users who **took the time to submit a written review**."
   ]
  },
  {
   "cell_type": "code",
   "execution_count": 68,
   "id": "eaa45e56",
   "metadata": {},
   "outputs": [
    {
     "data": {
      "application/vnd.jupyter.widget-view+json": {
       "model_id": "0a6d5a73fcc5407d9fe6f8df2cdbd14e",
       "version_major": 2,
       "version_minor": 0
      },
      "text/plain": [
       "VBox()"
      ]
     },
     "metadata": {},
     "output_type": "display_data"
    },
    {
     "data": {
      "application/vnd.jupyter.widget-view+json": {
       "model_id": "",
       "version_major": 2,
       "version_minor": 0
      },
      "text/plain": [
       "FloatProgress(value=0.0, bar_style='info', description='Progress:', layout=Layout(height='25px', width='50%'),…"
      ]
     },
     "metadata": {},
     "output_type": "display_data"
    },
    {
     "name": "stdout",
     "output_type": "stream",
     "text": [
      "+--------------------+-----------------+\n",
      "|         business_id|       avg(stars)|\n",
      "+--------------------+-----------------+\n",
      "|yHtuNAlYKtRZniO8O...|4.714285714285714|\n",
      "|R0IJhEI-zSJpYT1YN...|3.606060606060606|\n",
      "|uEUweopM30lHcVxjO...|              3.0|\n",
      "|L3WCfeVozu5etMhz4...|              4.2|\n",
      "|XzXcpPCb8Y5huklEN...|4.666666666666667|\n",
      "+--------------------+-----------------+\n",
      "only showing top 5 rows"
     ]
    }
   ],
   "source": [
    "df_review_avg = df_review.groupby(\"business_id\").avg(\"stars\")\n",
    "df_review_avg.show(5)"
   ]
  },
  {
   "cell_type": "markdown",
   "id": "7adee0fb",
   "metadata": {},
   "source": [
    "Now the fun part - let's join our two dataframes (reviews and business data) by `business_id`. "
   ]
  },
  {
   "cell_type": "code",
   "execution_count": 69,
   "id": "77dc6bea",
   "metadata": {},
   "outputs": [
    {
     "data": {
      "application/vnd.jupyter.widget-view+json": {
       "model_id": "414b1bae258249bfb39f2e2290f908d2",
       "version_major": 2,
       "version_minor": 0
      },
      "text/plain": [
       "VBox()"
      ]
     },
     "metadata": {},
     "output_type": "display_data"
    },
    {
     "data": {
      "application/vnd.jupyter.widget-view+json": {
       "model_id": "",
       "version_major": 2,
       "version_minor": 0
      },
      "text/plain": [
       "FloatProgress(value=0.0, bar_style='info', description='Progress:', layout=Layout(height='25px', width='50%'),…"
      ]
     },
     "metadata": {},
     "output_type": "display_data"
    }
   ],
   "source": [
    "bus_review = df_review_avg.join(df_bus, df_review_avg.business_id == df_bus.business_id)"
   ]
  },
  {
   "cell_type": "markdown",
   "id": "59e2b543",
   "metadata": {},
   "source": [
    "Let's see a few of these:"
   ]
  },
  {
   "cell_type": "code",
   "execution_count": 70,
   "id": "1df69674",
   "metadata": {},
   "outputs": [
    {
     "data": {
      "application/vnd.jupyter.widget-view+json": {
       "model_id": "021e31c51df14b3781ec0d7bdd6ca32e",
       "version_major": 2,
       "version_minor": 0
      },
      "text/plain": [
       "VBox()"
      ]
     },
     "metadata": {},
     "output_type": "display_data"
    },
    {
     "data": {
      "application/vnd.jupyter.widget-view+json": {
       "model_id": "",
       "version_major": 2,
       "version_minor": 0
      },
      "text/plain": [
       "FloatProgress(value=0.0, bar_style='info', description='Progress:', layout=Layout(height='25px', width='50%'),…"
      ]
     },
     "metadata": {},
     "output_type": "display_data"
    },
    {
     "name": "stdout",
     "output_type": "stream",
     "text": [
      "+------------------+-----+--------------------+----------+-----+\n",
      "|        avg(stars)|stars|                name|      city|state|\n",
      "+------------------+-----+--------------------+----------+-----+\n",
      "|               5.0|  5.0|    CheraBella Salon|   Peabody|   MA|\n",
      "|             3.875|  4.0|Mezcal Cantina & ...|  Columbus|   OH|\n",
      "|3.8666666666666667|  4.0|    Red Table Coffee|    Austin|   TX|\n",
      "|               5.0|  5.0|          WonderWell|    Austin|   TX|\n",
      "|             3.375|  3.5|         Avalon Oaks|Wilmington|   MA|\n",
      "+------------------+-----+--------------------+----------+-----+\n",
      "only showing top 5 rows"
     ]
    }
   ],
   "source": [
    "bus_review.select(\"avg(stars)\", \"stars\", \"name\", \"city\", \"state\").show(5)"
   ]
  },
  {
   "cell_type": "markdown",
   "id": "121b5d1b",
   "metadata": {},
   "source": [
    "Compute a new dataframe that calculates what we will call the _skew_ (for lack of a better word) between the avg stars accumulated from written reviews and the _actual_ star rating of a business (ie: the average of stars given by reviewers who wrote an actual review **and** reviewers who just provided a star rating).\n",
    "\n",
    "The formula you can use is something like:\n",
    "\n",
    "```\n",
    "(row['avg(stars)'] - row['stars']) / row['stars']\n",
    "```\n",
    "\n",
    "If the **skew** is negative, we can interpret that to be: reviewers who left a written response were more dissatisfied than normal. If **skew** is positive, we can interpret that to be: reviewers who left a written response were more satisfied than normal."
   ]
  },
  {
   "cell_type": "code",
   "execution_count": 71,
   "id": "222a65a4",
   "metadata": {},
   "outputs": [
    {
     "data": {
      "application/vnd.jupyter.widget-view+json": {
       "model_id": "5737117836324cd4b8693d40c9f61428",
       "version_major": 2,
       "version_minor": 0
      },
      "text/plain": [
       "VBox()"
      ]
     },
     "metadata": {},
     "output_type": "display_data"
    },
    {
     "data": {
      "application/vnd.jupyter.widget-view+json": {
       "model_id": "",
       "version_major": 2,
       "version_minor": 0
      },
      "text/plain": [
       "FloatProgress(value=0.0, bar_style='info', description='Progress:', layout=Layout(height='25px', width='50%'),…"
      ]
     },
     "metadata": {},
     "output_type": "display_data"
    }
   ],
   "source": [
    "df_skew = bus_review.withColumn(\"k\", (\n",
    "    (bus_review['avg(stars)'] - bus_review['stars']) / bus_review['stars']))"
   ]
  },
  {
   "cell_type": "code",
   "execution_count": 72,
   "id": "d4ed0511",
   "metadata": {},
   "outputs": [
    {
     "data": {
      "application/vnd.jupyter.widget-view+json": {
       "model_id": "d9a5d19d020649128cf946fd52929ade",
       "version_major": 2,
       "version_minor": 0
      },
      "text/plain": [
       "VBox()"
      ]
     },
     "metadata": {},
     "output_type": "display_data"
    },
    {
     "data": {
      "application/vnd.jupyter.widget-view+json": {
       "model_id": "",
       "version_major": 2,
       "version_minor": 0
      },
      "text/plain": [
       "FloatProgress(value=0.0, bar_style='info', description='Progress:', layout=Layout(height='25px', width='50%'),…"
      ]
     },
     "metadata": {},
     "output_type": "display_data"
    },
    {
     "name": "stdout",
     "output_type": "stream",
     "text": [
      "+--------------------+\n",
      "|                   k|\n",
      "+--------------------+\n",
      "|                 0.0|\n",
      "|0.008547008547008517|\n",
      "|0.050000000000000044|\n",
      "|-0.05000000000000...|\n",
      "|0.030303030303030276|\n",
      "+--------------------+\n",
      "only showing top 5 rows"
     ]
    }
   ],
   "source": [
    "df_skew_k = df_skew.select(\"k\")\n",
    "df_skew_k.show(5)"
   ]
  },
  {
   "cell_type": "code",
   "execution_count": 73,
   "id": "11effe23",
   "metadata": {},
   "outputs": [
    {
     "data": {
      "application/vnd.jupyter.widget-view+json": {
       "model_id": "d254b4f27d49406e9b3ad943b8f66bfb",
       "version_major": 2,
       "version_minor": 0
      },
      "text/plain": [
       "VBox()"
      ]
     },
     "metadata": {},
     "output_type": "display_data"
    },
    {
     "data": {
      "application/vnd.jupyter.widget-view+json": {
       "model_id": "",
       "version_major": 2,
       "version_minor": 0
      },
      "text/plain": [
       "FloatProgress(value=0.0, bar_style='info', description='Progress:', layout=Layout(height='25px', width='50%'),…"
      ]
     },
     "metadata": {},
     "output_type": "display_data"
    },
    {
     "name": "stdout",
     "output_type": "stream",
     "text": [
      "<matplotlib.axes._subplots.AxesSubplot object at 0x7f3260c12bd0>"
     ]
    }
   ],
   "source": [
    "df_skew_k = df_skew_k.toPandas()\n",
    "df_skew_k.plot(kind='hist',bins=50,density=True, color = 'skyblue', \n",
    "               title=\"Skew between business review and reviewer's rating\")"
   ]
  },
  {
   "cell_type": "code",
   "execution_count": 74,
   "id": "4123bdd4",
   "metadata": {},
   "outputs": [
    {
     "data": {
      "application/vnd.jupyter.widget-view+json": {
       "model_id": "",
       "version_major": 2,
       "version_minor": 0
      },
      "text/plain": [
       "FloatProgress(value=0.0, bar_style='info', description='Progress:', layout=Layout(height='25px', width='50%'),…"
      ]
     },
     "metadata": {},
     "output_type": "display_data"
    },
    {
     "data": {
      "image/png": "[encoded data removed]",
      "text/plain": [
       "<IPython.core.display.Image object>"
      ]
     },
     "metadata": {},
     "output_type": "display_data"
    }
   ],
   "source": [
    "%matplot plt"
   ]
  },
  {
   "cell_type": "markdown",
   "id": "7568d885",
   "metadata": {},
   "source": [
    "So, do Yelp (written) Reviews skew negative? Does this analysis actually prove anything? Expound on implications / interpretations of this graph.\n",
    "\n",
    "Answer: Based on the graph, most of the skew are closed to 0, however, it is slightly postive skew, which mean people who have postive feedback are more likely to leave high star rating. Reviewers who left a written response were more satisfied than normal."
   ]
  },
  {
   "cell_type": "markdown",
   "id": "35dfaf05",
   "metadata": {},
   "source": [
    "## Which top 5 states have highest reviewers' average star rating in Health & Medical category than others? "
   ]
  },
  {
   "cell_type": "markdown",
   "id": "61fc1a79",
   "metadata": {},
   "source": [
    "Select neccessary columns \"categories\", \"state\", \"avg(stars)\""
   ]
  },
  {
   "cell_type": "code",
   "execution_count": 75,
   "id": "220a52b3",
   "metadata": {},
   "outputs": [
    {
     "data": {
      "application/vnd.jupyter.widget-view+json": {
       "model_id": "cc78e2b4dc35457994c065aa898112b9",
       "version_major": 2,
       "version_minor": 0
      },
      "text/plain": [
       "VBox()"
      ]
     },
     "metadata": {},
     "output_type": "display_data"
    },
    {
     "data": {
      "application/vnd.jupyter.widget-view+json": {
       "model_id": "",
       "version_major": 2,
       "version_minor": 0
      },
      "text/plain": [
       "FloatProgress(value=0.0, bar_style='info', description='Progress:', layout=Layout(height='25px', width='50%'),…"
      ]
     },
     "metadata": {},
     "output_type": "display_data"
    }
   ],
   "source": [
    "bus_review = df_review_avg.join(df_bus, df_review_avg.business_id == df_bus.business_id)"
   ]
  },
  {
   "cell_type": "code",
   "execution_count": 76,
   "id": "a71f9b9a",
   "metadata": {},
   "outputs": [
    {
     "data": {
      "application/vnd.jupyter.widget-view+json": {
       "model_id": "0be4823dd89943ddb2b9aad31a0d35b5",
       "version_major": 2,
       "version_minor": 0
      },
      "text/plain": [
       "VBox()"
      ]
     },
     "metadata": {},
     "output_type": "display_data"
    },
    {
     "data": {
      "application/vnd.jupyter.widget-view+json": {
       "model_id": "",
       "version_major": 2,
       "version_minor": 0
      },
      "text/plain": [
       "FloatProgress(value=0.0, bar_style='info', description='Progress:', layout=Layout(height='25px', width='50%'),…"
      ]
     },
     "metadata": {},
     "output_type": "display_data"
    },
    {
     "name": "stdout",
     "output_type": "stream",
     "text": [
      "+--------------------+-----+-----------------+\n",
      "|          categories|state|       avg(stars)|\n",
      "+--------------------+-----+-----------------+\n",
      "|Burgers, Restaura...|   BC|              3.0|\n",
      "|Local Services, S...|   MA|4.538461538461538|\n",
      "|Public Services &...|   TX|              4.2|\n",
      "|Local Services, D...|   MA|              3.8|\n",
      "|Nail Salons, Waxi...|   MA|3.606060606060606|\n",
      "+--------------------+-----+-----------------+\n",
      "only showing top 5 rows"
     ]
    }
   ],
   "source": [
    "bus_review2 = bus_review.select(\"categories\", \"state\", \"avg(stars)\")\n",
    "bus_review2.show(5)"
   ]
  },
  {
   "cell_type": "markdown",
   "id": "154213e8",
   "metadata": {},
   "source": [
    "Split the categories columns"
   ]
  },
  {
   "cell_type": "code",
   "execution_count": 77,
   "id": "a8496e9f",
   "metadata": {},
   "outputs": [
    {
     "data": {
      "application/vnd.jupyter.widget-view+json": {
       "model_id": "895772e0ed3545c1b3eddb466e5bbfe1",
       "version_major": 2,
       "version_minor": 0
      },
      "text/plain": [
       "VBox()"
      ]
     },
     "metadata": {},
     "output_type": "display_data"
    },
    {
     "data": {
      "application/vnd.jupyter.widget-view+json": {
       "model_id": "",
       "version_major": 2,
       "version_minor": 0
      },
      "text/plain": [
       "FloatProgress(value=0.0, bar_style='info', description='Progress:', layout=Layout(height='25px', width='50%'),…"
      ]
     },
     "metadata": {},
     "output_type": "display_data"
    },
    {
     "name": "stdout",
     "output_type": "stream",
     "text": [
      "+-------------+-----+-----------------+\n",
      "|   categories|state|       avg(stars)|\n",
      "+-------------+-----+-----------------+\n",
      "|      Massage|   TX|4.714285714285714|\n",
      "|      Barbers|   TX|4.714285714285714|\n",
      "|Beauty & Spas|   TX|4.714285714285714|\n",
      "|  Nail Salons|   MA|3.606060606060606|\n",
      "|       Waxing|   MA|3.606060606060606|\n",
      "+-------------+-----+-----------------+\n",
      "only showing top 5 rows"
     ]
    }
   ],
   "source": [
    "bus_review_split = bus_review2.withColumn('categories', explode(split('categories',\", \")))\n",
    "bus_review_split.show(5)"
   ]
  },
  {
   "cell_type": "markdown",
   "id": "968802e2",
   "metadata": {},
   "source": [
    "Only pick category of Health & Medical by using `filter`"
   ]
  },
  {
   "cell_type": "code",
   "execution_count": 78,
   "id": "486974b5",
   "metadata": {},
   "outputs": [
    {
     "data": {
      "application/vnd.jupyter.widget-view+json": {
       "model_id": "b6bde44da2eb43d5a9ee9fc8d4785d3e",
       "version_major": 2,
       "version_minor": 0
      },
      "text/plain": [
       "VBox()"
      ]
     },
     "metadata": {},
     "output_type": "display_data"
    },
    {
     "data": {
      "application/vnd.jupyter.widget-view+json": {
       "model_id": "",
       "version_major": 2,
       "version_minor": 0
      },
      "text/plain": [
       "FloatProgress(value=0.0, bar_style='info', description='Progress:', layout=Layout(height='25px', width='50%'),…"
      ]
     },
     "metadata": {},
     "output_type": "display_data"
    },
    {
     "name": "stdout",
     "output_type": "stream",
     "text": [
      "+----------------+-----+-----------------+\n",
      "|      categories|state|       avg(stars)|\n",
      "+----------------+-----+-----------------+\n",
      "|Health & Medical|   TX|4.333333333333333|\n",
      "|Health & Medical|   GA|3.909090909090909|\n",
      "|Health & Medical|   FL|4.428571428571429|\n",
      "|Health & Medical|   OR|              5.0|\n",
      "|Health & Medical|   OR|4.453333333333333|\n",
      "+----------------+-----+-----------------+\n",
      "only showing top 5 rows"
     ]
    }
   ],
   "source": [
    "bus_state_review_hm = bus_review_split.filter(bus_review_split.categories == \"Health & Medical\")\n",
    "bus_state_review_hm.show(5)"
   ]
  },
  {
   "cell_type": "markdown",
   "id": "2ed610d6",
   "metadata": {},
   "source": [
    "Number of columns and rows"
   ]
  },
  {
   "cell_type": "code",
   "execution_count": 79,
   "id": "2c978c39",
   "metadata": {},
   "outputs": [
    {
     "data": {
      "application/vnd.jupyter.widget-view+json": {
       "model_id": "9548dc2e9a5e4b75811afaeec14b8d88",
       "version_major": 2,
       "version_minor": 0
      },
      "text/plain": [
       "VBox()"
      ]
     },
     "metadata": {},
     "output_type": "display_data"
    },
    {
     "data": {
      "application/vnd.jupyter.widget-view+json": {
       "model_id": "",
       "version_major": 2,
       "version_minor": 0
      },
      "text/plain": [
       "FloatProgress(value=0.0, bar_style='info', description='Progress:', layout=Layout(height='25px', width='50%'),…"
      ]
     },
     "metadata": {},
     "output_type": "display_data"
    },
    {
     "name": "stdout",
     "output_type": "stream",
     "text": [
      "Columns: 3 | Rows: 15102"
     ]
    }
   ],
   "source": [
    "print(f'Columns: {len(bus_state_review_hm.dtypes)} | Rows: {(bus_state_review_hm.count())}')"
   ]
  },
  {
   "cell_type": "markdown",
   "id": "a4098468",
   "metadata": {},
   "source": [
    "Show top 5 states with the highest reviewers' rating in Health & Medical category"
   ]
  },
  {
   "cell_type": "code",
   "execution_count": 80,
   "id": "329dd697",
   "metadata": {},
   "outputs": [
    {
     "data": {
      "application/vnd.jupyter.widget-view+json": {
       "model_id": "6f1928f0d4c74716a2b8411d3357fdb6",
       "version_major": 2,
       "version_minor": 0
      },
      "text/plain": [
       "VBox()"
      ]
     },
     "metadata": {},
     "output_type": "display_data"
    },
    {
     "data": {
      "application/vnd.jupyter.widget-view+json": {
       "model_id": "",
       "version_major": 2,
       "version_minor": 0
      },
      "text/plain": [
       "FloatProgress(value=0.0, bar_style='info', description='Progress:', layout=Layout(height='25px', width='50%'),…"
      ]
     },
     "metadata": {},
     "output_type": "display_data"
    },
    {
     "name": "stdout",
     "output_type": "stream",
     "text": [
      "+-----+------------------+\n",
      "|state|   avg(avg(stars))|\n",
      "+-----+------------------+\n",
      "|   DC|               5.0|\n",
      "|   CA| 4.384615384615385|\n",
      "|   OR| 4.079730799151105|\n",
      "|   TX| 4.055223322800128|\n",
      "|   CO|3.9583030934710655|\n",
      "+-----+------------------+\n",
      "only showing top 5 rows"
     ]
    }
   ],
   "source": [
    "bus_state_review_hm1 = bus_state_review_hm.groupby(\"state\").avg(\"avg(stars)\").orderBy(\n",
    "    \"avg(avg(stars))\", ascending=False)\n",
    "bus_state_review_hm1.show(5)"
   ]
  },
  {
   "cell_type": "code",
   "execution_count": 81,
   "id": "92225aba",
   "metadata": {},
   "outputs": [
    {
     "data": {
      "application/vnd.jupyter.widget-view+json": {
       "model_id": "206052df07334926bc916d5678d4c601",
       "version_major": 2,
       "version_minor": 0
      },
      "text/plain": [
       "VBox()"
      ]
     },
     "metadata": {},
     "output_type": "display_data"
    },
    {
     "data": {
      "application/vnd.jupyter.widget-view+json": {
       "model_id": "",
       "version_major": 2,
       "version_minor": 0
      },
      "text/plain": [
       "FloatProgress(value=0.0, bar_style='info', description='Progress:', layout=Layout(height='25px', width='50%'),…"
      ]
     },
     "metadata": {},
     "output_type": "display_data"
    },
    {
     "name": "stdout",
     "output_type": "stream",
     "text": [
      "Text(0, 0.5, 'state')"
     ]
    }
   ],
   "source": [
    "plt.figure()\n",
    "bus_state_review_hm1.limit(5).toPandas().sort_values(by=\"avg(avg(stars))\").plot(kind=\"barh\", x='state')\n",
    "plt.title(\"Top 5 states with highest reviewers' star rating in Health & Medical category\")\n",
    "plt.xlabel(\"rating\")\n",
    "plt.ylabel(\"state\")"
   ]
  },
  {
   "cell_type": "code",
   "execution_count": 82,
   "id": "711aed82",
   "metadata": {},
   "outputs": [
    {
     "data": {
      "application/vnd.jupyter.widget-view+json": {
       "model_id": "",
       "version_major": 2,
       "version_minor": 0
      },
      "text/plain": [
       "FloatProgress(value=0.0, bar_style='info', description='Progress:', layout=Layout(height='25px', width='50%'),…"
      ]
     },
     "metadata": {},
     "output_type": "display_data"
    },
    {
     "data": {
      "image/png": "[encoded data removed]",
      "text/plain": [
       "<IPython.core.display.Image object>"
      ]
     },
     "metadata": {},
     "output_type": "display_data"
    }
   ],
   "source": [
    "%matplot plt"
   ]
  },
  {
   "cell_type": "markdown",
   "id": "2d9a756f",
   "metadata": {},
   "source": [
    "Based on the graph, DC is the state that has the highest star rating in Health & Medical category, CA is the second, the rest of states are OR, TX, and CO."
   ]
  },
  {
   "cell_type": "markdown",
   "id": "e28d0f3e",
   "metadata": {},
   "source": [
    "# Should the Elite be Trusted? (Or, some other analysis of your choice)\n",
    "For the final portion - you have a choice:\n",
    "\n",
    "* Try and analyze some interesting dimension to this data. The **ONLY** requirement is that you must use the **Users** dataset and join on either the **business* or **reviews** dataset\n",
    "* Or, you may try and answer the question posed: how accurate or close are the ratings of an \"elite\" user (check Users table schema) vs the actual business rating.\n",
    "\n",
    "Feel free to use any and all methodologies at your disposal - only requirement is you must render one visualization in your analysis"
   ]
  },
  {
   "cell_type": "markdown",
   "id": "79ba1138",
   "metadata": {},
   "source": [
    "## Loading data"
   ]
  },
  {
   "cell_type": "code",
   "execution_count": 83,
   "id": "9eda297e",
   "metadata": {},
   "outputs": [
    {
     "data": {
      "application/vnd.jupyter.widget-view+json": {
       "model_id": "38cc836dc0ac45cd961b9d1db09f502f",
       "version_major": 2,
       "version_minor": 0
      },
      "text/plain": [
       "VBox()"
      ]
     },
     "metadata": {},
     "output_type": "display_data"
    },
    {
     "data": {
      "application/vnd.jupyter.widget-view+json": {
       "model_id": "",
       "version_major": 2,
       "version_minor": 0
      },
      "text/plain": [
       "FloatProgress(value=0.0, bar_style='info', description='Progress:', layout=Layout(height='25px', width='50%'),…"
      ]
     },
     "metadata": {},
     "output_type": "display_data"
    }
   ],
   "source": [
    "df_user = spark.read.json(\"s3://sta9760f2021-datasets/yelp_academic_dataset_user.json\")"
   ]
  },
  {
   "cell_type": "code",
   "execution_count": 84,
   "id": "1e024d26",
   "metadata": {},
   "outputs": [
    {
     "data": {
      "application/vnd.jupyter.widget-view+json": {
       "model_id": "68e89bbc638c4f90ad7e5ab995dd0236",
       "version_major": 2,
       "version_minor": 0
      },
      "text/plain": [
       "VBox()"
      ]
     },
     "metadata": {},
     "output_type": "display_data"
    },
    {
     "data": {
      "application/vnd.jupyter.widget-view+json": {
       "model_id": "",
       "version_major": 2,
       "version_minor": 0
      },
      "text/plain": [
       "FloatProgress(value=0.0, bar_style='info', description='Progress:', layout=Layout(height='25px', width='50%'),…"
      ]
     },
     "metadata": {},
     "output_type": "display_data"
    },
    {
     "name": "stdout",
     "output_type": "stream",
     "text": [
      "root\n",
      " |-- average_stars: double (nullable = true)\n",
      " |-- compliment_cool: long (nullable = true)\n",
      " |-- compliment_cute: long (nullable = true)\n",
      " |-- compliment_funny: long (nullable = true)\n",
      " |-- compliment_hot: long (nullable = true)\n",
      " |-- compliment_list: long (nullable = true)\n",
      " |-- compliment_more: long (nullable = true)\n",
      " |-- compliment_note: long (nullable = true)\n",
      " |-- compliment_photos: long (nullable = true)\n",
      " |-- compliment_plain: long (nullable = true)\n",
      " |-- compliment_profile: long (nullable = true)\n",
      " |-- compliment_writer: long (nullable = true)\n",
      " |-- cool: long (nullable = true)\n",
      " |-- elite: string (nullable = true)\n",
      " |-- fans: long (nullable = true)\n",
      " |-- friends: string (nullable = true)\n",
      " |-- funny: long (nullable = true)\n",
      " |-- name: string (nullable = true)\n",
      " |-- review_count: long (nullable = true)\n",
      " |-- useful: long (nullable = true)\n",
      " |-- user_id: string (nullable = true)\n",
      " |-- yelping_since: string (nullable = true)"
     ]
    }
   ],
   "source": [
    "df_user.printSchema()"
   ]
  },
  {
   "cell_type": "markdown",
   "id": "32a5e63c",
   "metadata": {},
   "source": [
    "### Data cleaning"
   ]
  },
  {
   "cell_type": "code",
   "execution_count": 85,
   "id": "abf59f95",
   "metadata": {},
   "outputs": [
    {
     "data": {
      "application/vnd.jupyter.widget-view+json": {
       "model_id": "d3921688cf5646fe8e3d1f6580fb7841",
       "version_major": 2,
       "version_minor": 0
      },
      "text/plain": [
       "VBox()"
      ]
     },
     "metadata": {},
     "output_type": "display_data"
    },
    {
     "data": {
      "application/vnd.jupyter.widget-view+json": {
       "model_id": "",
       "version_major": 2,
       "version_minor": 0
      },
      "text/plain": [
       "FloatProgress(value=0.0, bar_style='info', description='Progress:', layout=Layout(height='25px', width='50%'),…"
      ]
     },
     "metadata": {},
     "output_type": "display_data"
    }
   ],
   "source": [
    "df_user_clean = df_user.withColumnRenamed(\"average_stars\", \"user_stars\")"
   ]
  },
  {
   "cell_type": "code",
   "execution_count": 86,
   "id": "5fed06b5",
   "metadata": {},
   "outputs": [
    {
     "data": {
      "application/vnd.jupyter.widget-view+json": {
       "model_id": "c182fd2c48544143a54fe65893d26f9f",
       "version_major": 2,
       "version_minor": 0
      },
      "text/plain": [
       "VBox()"
      ]
     },
     "metadata": {},
     "output_type": "display_data"
    },
    {
     "data": {
      "application/vnd.jupyter.widget-view+json": {
       "model_id": "",
       "version_major": 2,
       "version_minor": 0
      },
      "text/plain": [
       "FloatProgress(value=0.0, bar_style='info', description='Progress:', layout=Layout(height='25px', width='50%'),…"
      ]
     },
     "metadata": {},
     "output_type": "display_data"
    },
    {
     "name": "stdout",
     "output_type": "stream",
     "text": [
      "+--------------------+--------------------+----------+------------+\n",
      "|             user_id|               elite|user_stars|review_count|\n",
      "+--------------------+--------------------+----------+------------+\n",
      "|q_QQ5kBBwlCcbL1s4...|2006,2007,2008,20...|      3.85|        1220|\n",
      "|dIIKEfOgo0KqUfGQv...|2007,2008,2009,20...|      4.09|        2136|\n",
      "|D6ErcUnFALnCQN4b1...|           2010,2011|      3.76|         119|\n",
      "|JnPIjvC0cmooNDfsa...|2009,2010,2011,20...|      3.77|         987|\n",
      "|37Hc8hr3cw0iHLoPz...|      2009,2010,2011|      3.72|         495|\n",
      "+--------------------+--------------------+----------+------------+\n",
      "only showing top 5 rows"
     ]
    }
   ],
   "source": [
    "df_user_clean1 = df_user_clean.select(\"user_id\", \"elite\", \"user_stars\", \"review_count\")\n",
    "df_user_clean1.show(5)"
   ]
  },
  {
   "cell_type": "markdown",
   "id": "19009160",
   "metadata": {},
   "source": [
    "Create a dataset \"df_user_elite\" only with elite users"
   ]
  },
  {
   "cell_type": "code",
   "execution_count": 87,
   "id": "71e14da3",
   "metadata": {},
   "outputs": [
    {
     "data": {
      "application/vnd.jupyter.widget-view+json": {
       "model_id": "f97cf8f92ecf4609912f35442d86d6c0",
       "version_major": 2,
       "version_minor": 0
      },
      "text/plain": [
       "VBox()"
      ]
     },
     "metadata": {},
     "output_type": "display_data"
    },
    {
     "data": {
      "application/vnd.jupyter.widget-view+json": {
       "model_id": "",
       "version_major": 2,
       "version_minor": 0
      },
      "text/plain": [
       "FloatProgress(value=0.0, bar_style='info', description='Progress:', layout=Layout(height='25px', width='50%'),…"
      ]
     },
     "metadata": {},
     "output_type": "display_data"
    },
    {
     "name": "stdout",
     "output_type": "stream",
     "text": [
      "+--------------------+--------------------+----------+------------+\n",
      "|             user_id|               elite|user_stars|review_count|\n",
      "+--------------------+--------------------+----------+------------+\n",
      "|q_QQ5kBBwlCcbL1s4...|2006,2007,2008,20...|      3.85|        1220|\n",
      "|dIIKEfOgo0KqUfGQv...|2007,2008,2009,20...|      4.09|        2136|\n",
      "|D6ErcUnFALnCQN4b1...|           2010,2011|      3.76|         119|\n",
      "|JnPIjvC0cmooNDfsa...|2009,2010,2011,20...|      3.77|         987|\n",
      "|37Hc8hr3cw0iHLoPz...|      2009,2010,2011|      3.72|         495|\n",
      "+--------------------+--------------------+----------+------------+\n",
      "only showing top 5 rows"
     ]
    }
   ],
   "source": [
    "df_user_elite = df_user_clean1.filter(df_user_clean1.elite != \"\")\n",
    "df_user_elite.show(5)"
   ]
  },
  {
   "cell_type": "markdown",
   "id": "2cd1c3f2",
   "metadata": {},
   "source": [
    "### Join datasets\n",
    "\n",
    "Combine business dataset and review dataset with user dataset (df_user_elite)\n",
    "\n",
    "In this part, I join the datasets to find the star rating of the elite users only that gave to the business"
   ]
  },
  {
   "cell_type": "code",
   "execution_count": 88,
   "id": "a762327d",
   "metadata": {},
   "outputs": [
    {
     "data": {
      "application/vnd.jupyter.widget-view+json": {
       "model_id": "1aac39705598400bac544d4919d86a4e",
       "version_major": 2,
       "version_minor": 0
      },
      "text/plain": [
       "VBox()"
      ]
     },
     "metadata": {},
     "output_type": "display_data"
    },
    {
     "data": {
      "application/vnd.jupyter.widget-view+json": {
       "model_id": "",
       "version_major": 2,
       "version_minor": 0
      },
      "text/plain": [
       "FloatProgress(value=0.0, bar_style='info', description='Progress:', layout=Layout(height='25px', width='50%'),…"
      ]
     },
     "metadata": {},
     "output_type": "display_data"
    }
   ],
   "source": [
    "df_bus = spark.read.json(\"s3://sta9760f2021-datasets/yelp_academic_dataset_business.json\")"
   ]
  },
  {
   "cell_type": "code",
   "execution_count": 89,
   "id": "176eab5a",
   "metadata": {},
   "outputs": [
    {
     "data": {
      "application/vnd.jupyter.widget-view+json": {
       "model_id": "1ea49a1bdecb43cbaf7530cb257a5928",
       "version_major": 2,
       "version_minor": 0
      },
      "text/plain": [
       "VBox()"
      ]
     },
     "metadata": {},
     "output_type": "display_data"
    },
    {
     "data": {
      "application/vnd.jupyter.widget-view+json": {
       "model_id": "",
       "version_major": 2,
       "version_minor": 0
      },
      "text/plain": [
       "FloatProgress(value=0.0, bar_style='info', description='Progress:', layout=Layout(height='25px', width='50%'),…"
      ]
     },
     "metadata": {},
     "output_type": "display_data"
    }
   ],
   "source": [
    "df_review = spark.read.json(\"s3://sta9760f2021-datasets/yelp_academic_dataset_review.json\")"
   ]
  },
  {
   "cell_type": "code",
   "execution_count": 90,
   "id": "6313efb2",
   "metadata": {},
   "outputs": [
    {
     "data": {
      "application/vnd.jupyter.widget-view+json": {
       "model_id": "77e134ce6e08429ab0ce0e5241796814",
       "version_major": 2,
       "version_minor": 0
      },
      "text/plain": [
       "VBox()"
      ]
     },
     "metadata": {},
     "output_type": "display_data"
    },
    {
     "data": {
      "application/vnd.jupyter.widget-view+json": {
       "model_id": "",
       "version_major": 2,
       "version_minor": 0
      },
      "text/plain": [
       "FloatProgress(value=0.0, bar_style='info', description='Progress:', layout=Layout(height='25px', width='50%'),…"
      ]
     },
     "metadata": {},
     "output_type": "display_data"
    },
    {
     "name": "stdout",
     "output_type": "stream",
     "text": [
      "+--------------------+--------------------+--------------+--------------------+--------------------+----------+------------+\n",
      "|             user_id|         business_id|user_bus_stars|             user_id|               elite|user_stars|review_count|\n",
      "+--------------------+--------------------+--------------+--------------------+--------------------+----------+------------+\n",
      "|0JQYSCWOQWKqK7KMj...|eCLuYcTuQpDPFOezh...|           4.0|0JQYSCWOQWKqK7KMj...| 2015,2016,2017,2018|      3.83|         232|\n",
      "|l91pXxTZGS5CNWjNB...|RP_U_TyolABy3eYuR...|           3.0|l91pXxTZGS5CNWjNB...|2012,2013,2014,20...|      3.53|         424|\n",
      "|WAyYDJKFMzlTTnKxq...|_6TF9YiOiYSToPBRz...|           5.0|WAyYDJKFMzlTTnKxq...|2011,2012,2013,20...|      3.65|         236|\n",
      "|g34Qcj06LmCDhKzks...|bxy3khT-2R66tcdKj...|           4.0|g34Qcj06LmCDhKzks...|2017,2018,2019,20,20|      3.99|         289|\n",
      "|_UMIAnpnXWAqXS4y6...|A0F6H8OO3qYAvI2L3...|           4.0|_UMIAnpnXWAqXS4y6...|2015,2016,2017,20...|      4.37|         195|\n",
      "+--------------------+--------------------+--------------+--------------------+--------------------+----------+------------+\n",
      "only showing top 5 rows"
     ]
    }
   ],
   "source": [
    "df_rev_clean = df_review.withColumnRenamed(\"stars\", \"user_bus_stars\")\n",
    "df_rev_clean1 = df_rev_clean.select(\"user_id\", \"business_id\", \"user_bus_stars\")\n",
    "elite_review = df_rev_clean1.join(df_user_elite, \n",
    "                                  df_rev_clean1.user_id == df_user_elite.user_id)\n",
    "elite_review.show(5)"
   ]
  },
  {
   "cell_type": "markdown",
   "id": "6f109877",
   "metadata": {},
   "source": [
    "Combine business dataset with elite_review\n",
    "\n",
    "In this part, I join the business dataset with actual business rating to the elite review dataset, and then I can use \"(elite users rating gave to the business - actual business rating) / actual business rating\" to see the differnece between elite users gave to the business and the actual business rating"
   ]
  },
  {
   "cell_type": "code",
   "execution_count": 91,
   "id": "73715d56",
   "metadata": {},
   "outputs": [
    {
     "data": {
      "application/vnd.jupyter.widget-view+json": {
       "model_id": "030f94087cf347f283a0d69e2efc897d",
       "version_major": 2,
       "version_minor": 0
      },
      "text/plain": [
       "VBox()"
      ]
     },
     "metadata": {},
     "output_type": "display_data"
    },
    {
     "data": {
      "application/vnd.jupyter.widget-view+json": {
       "model_id": "",
       "version_major": 2,
       "version_minor": 0
      },
      "text/plain": [
       "FloatProgress(value=0.0, bar_style='info', description='Progress:', layout=Layout(height='25px', width='50%'),…"
      ]
     },
     "metadata": {},
     "output_type": "display_data"
    },
    {
     "name": "stdout",
     "output_type": "stream",
     "text": [
      "+--------------------+-------------+--------------------+--------------------+--------------+--------------------+--------------------+----------+------------+\n",
      "|         business_id|bus_act_stars|             user_id|         business_id|user_bus_stars|             user_id|               elite|user_stars|review_count|\n",
      "+--------------------+-------------+--------------------+--------------------+--------------+--------------------+--------------------+----------+------------+\n",
      "|eCLuYcTuQpDPFOezh...|          4.0|0JQYSCWOQWKqK7KMj...|eCLuYcTuQpDPFOezh...|           4.0|0JQYSCWOQWKqK7KMj...| 2015,2016,2017,2018|      3.83|         232|\n",
      "|RP_U_TyolABy3eYuR...|          3.0|l91pXxTZGS5CNWjNB...|RP_U_TyolABy3eYuR...|           3.0|l91pXxTZGS5CNWjNB...|2012,2013,2014,20...|      3.53|         424|\n",
      "|_6TF9YiOiYSToPBRz...|          3.5|WAyYDJKFMzlTTnKxq...|_6TF9YiOiYSToPBRz...|           5.0|WAyYDJKFMzlTTnKxq...|2011,2012,2013,20...|      3.65|         236|\n",
      "|bxy3khT-2R66tcdKj...|          4.0|g34Qcj06LmCDhKzks...|bxy3khT-2R66tcdKj...|           4.0|g34Qcj06LmCDhKzks...|2017,2018,2019,20,20|      3.99|         289|\n",
      "|A0F6H8OO3qYAvI2L3...|          4.0|_UMIAnpnXWAqXS4y6...|A0F6H8OO3qYAvI2L3...|           4.0|_UMIAnpnXWAqXS4y6...|2015,2016,2017,20...|      4.37|         195|\n",
      "+--------------------+-------------+--------------------+--------------------+--------------+--------------------+--------------------+----------+------------+\n",
      "only showing top 5 rows"
     ]
    }
   ],
   "source": [
    "df_bus_clean = df_bus.withColumnRenamed(\"stars\", \"bus_act_stars\")\n",
    "df_bus_clean1 = df_bus_clean.select(\"business_id\", \"bus_act_stars\")\n",
    "elite_review_bus = df_bus_clean1.join(elite_review, df_bus_clean1.business_id == elite_review.business_id)\n",
    "elite_review_bus.show(5)"
   ]
  },
  {
   "cell_type": "code",
   "execution_count": 96,
   "id": "6b9f8257",
   "metadata": {},
   "outputs": [
    {
     "data": {
      "application/vnd.jupyter.widget-view+json": {
       "model_id": "660204672f7c443fb298e5d4e55e07b3",
       "version_major": 2,
       "version_minor": 0
      },
      "text/plain": [
       "VBox()"
      ]
     },
     "metadata": {},
     "output_type": "display_data"
    },
    {
     "data": {
      "application/vnd.jupyter.widget-view+json": {
       "model_id": "",
       "version_major": 2,
       "version_minor": 0
      },
      "text/plain": [
       "FloatProgress(value=0.0, bar_style='info', description='Progress:', layout=Layout(height='25px', width='50%'),…"
      ]
     },
     "metadata": {},
     "output_type": "display_data"
    },
    {
     "name": "stdout",
     "output_type": "stream",
     "text": [
      "+--------------------+-------------+--------------------+--------------------+--------------+--------------------+--------------------+----------+------------+-------------------+\n",
      "|         business_id|bus_act_stars|             user_id|         business_id|user_bus_stars|             user_id|               elite|user_stars|review_count|                  k|\n",
      "+--------------------+-------------+--------------------+--------------------+--------------+--------------------+--------------------+----------+------------+-------------------+\n",
      "|eCLuYcTuQpDPFOezh...|          4.0|0JQYSCWOQWKqK7KMj...|eCLuYcTuQpDPFOezh...|           4.0|0JQYSCWOQWKqK7KMj...| 2015,2016,2017,2018|      3.83|         232|                0.0|\n",
      "|RP_U_TyolABy3eYuR...|          3.0|l91pXxTZGS5CNWjNB...|RP_U_TyolABy3eYuR...|           3.0|l91pXxTZGS5CNWjNB...|2012,2013,2014,20...|      3.53|         424|                0.0|\n",
      "|_6TF9YiOiYSToPBRz...|          3.5|WAyYDJKFMzlTTnKxq...|_6TF9YiOiYSToPBRz...|           5.0|WAyYDJKFMzlTTnKxq...|2011,2012,2013,20...|      3.65|         236|0.42857142857142855|\n",
      "|bxy3khT-2R66tcdKj...|          4.0|g34Qcj06LmCDhKzks...|bxy3khT-2R66tcdKj...|           4.0|g34Qcj06LmCDhKzks...|2017,2018,2019,20,20|      3.99|         289|                0.0|\n",
      "|A0F6H8OO3qYAvI2L3...|          4.0|_UMIAnpnXWAqXS4y6...|A0F6H8OO3qYAvI2L3...|           4.0|_UMIAnpnXWAqXS4y6...|2015,2016,2017,20...|      4.37|         195|                0.0|\n",
      "+--------------------+-------------+--------------------+--------------------+--------------+--------------------+--------------------+----------+------------+-------------------+\n",
      "only showing top 5 rows"
     ]
    }
   ],
   "source": [
    "elite_skew = elite_review_bus.withColumn(\"k\", (\n",
    "    (elite_review_bus['user_bus_stars'] - elite_review_bus['bus_act_stars']) \n",
    "    / elite_review_bus['bus_act_stars']))\n",
    "elite_skew.show(5)"
   ]
  },
  {
   "cell_type": "code",
   "execution_count": 97,
   "id": "f64c428b",
   "metadata": {},
   "outputs": [
    {
     "data": {
      "application/vnd.jupyter.widget-view+json": {
       "model_id": "db65dcd7c09c42b39f620e7e00482e4c",
       "version_major": 2,
       "version_minor": 0
      },
      "text/plain": [
       "VBox()"
      ]
     },
     "metadata": {},
     "output_type": "display_data"
    },
    {
     "data": {
      "application/vnd.jupyter.widget-view+json": {
       "model_id": "",
       "version_major": 2,
       "version_minor": 0
      },
      "text/plain": [
       "FloatProgress(value=0.0, bar_style='info', description='Progress:', layout=Layout(height='25px', width='50%'),…"
      ]
     },
     "metadata": {},
     "output_type": "display_data"
    },
    {
     "name": "stdout",
     "output_type": "stream",
     "text": [
      "+-------------------+\n",
      "|                  k|\n",
      "+-------------------+\n",
      "|                0.0|\n",
      "|                0.0|\n",
      "|0.42857142857142855|\n",
      "|                0.0|\n",
      "|                0.0|\n",
      "+-------------------+\n",
      "only showing top 5 rows"
     ]
    }
   ],
   "source": [
    "elite_skew_k = elite_skew.select(\"k\")\n",
    "elite_skew_k.show(5)"
   ]
  },
  {
   "cell_type": "code",
   "execution_count": 98,
   "id": "2f37adf1",
   "metadata": {},
   "outputs": [
    {
     "data": {
      "application/vnd.jupyter.widget-view+json": {
       "model_id": "ad6a1ad8287d4ebbb59dcf8705f8fed5",
       "version_major": 2,
       "version_minor": 0
      },
      "text/plain": [
       "VBox()"
      ]
     },
     "metadata": {},
     "output_type": "display_data"
    },
    {
     "data": {
      "application/vnd.jupyter.widget-view+json": {
       "model_id": "",
       "version_major": 2,
       "version_minor": 0
      },
      "text/plain": [
       "FloatProgress(value=0.0, bar_style='info', description='Progress:', layout=Layout(height='25px', width='50%'),…"
      ]
     },
     "metadata": {},
     "output_type": "display_data"
    },
    {
     "name": "stdout",
     "output_type": "stream",
     "text": [
      "<matplotlib.axes._subplots.AxesSubplot object at 0x7f3284049a50>"
     ]
    }
   ],
   "source": [
    "elite_skew_k = elite_skew_k.toPandas()\n",
    "elite_skew_k.plot(kind='hist',bins=50,density=True, color = 'skyblue')"
   ]
  },
  {
   "cell_type": "code",
   "execution_count": 99,
   "id": "c9d8916f",
   "metadata": {},
   "outputs": [
    {
     "data": {
      "application/vnd.jupyter.widget-view+json": {
       "model_id": "",
       "version_major": 2,
       "version_minor": 0
      },
      "text/plain": [
       "FloatProgress(value=0.0, bar_style='info', description='Progress:', layout=Layout(height='25px', width='50%'),…"
      ]
     },
     "metadata": {},
     "output_type": "display_data"
    },
    {
     "data": {
      "image/png": "[encoded data removed]",
      "text/plain": [
       "<IPython.core.display.Image object>"
      ]
     },
     "metadata": {},
     "output_type": "display_data"
    }
   ],
   "source": [
    "%matplot plt"
   ]
  },
  {
   "cell_type": "markdown",
   "id": "fabc1d4b",
   "metadata": {},
   "source": [
    "Based on the graph, most of the k are closed to 0 and distributed between 0 and 1, and it is negative skew, which means most of elite usesrs would give the similar or a little bit higher rating than the actual rating for the business. And there are some outliers shows that some elite users would give much higher rating than the actual business rating."
   ]
  }
 ],
 "metadata": {
  "kernelspec": {
   "display_name": "PySpark",
   "language": "",
   "name": "pysparkkernel"
  },
  "language_info": {
   "codemirror_mode": {
    "name": "python",
    "version": 2
   },
   "mimetype": "text/x-python",
   "name": "pyspark",
   "pygments_lexer": "python2"
  }
 },
 "nbformat": 4,
 "nbformat_minor": 5
}
